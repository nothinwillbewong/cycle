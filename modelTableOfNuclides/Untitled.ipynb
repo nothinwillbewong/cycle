{
 "cells": [
  {
   "cell_type": "code",
   "execution_count": 53,
   "id": "c863ee04-7158-4b38-9160-43cc0f772648",
   "metadata": {},
   "outputs": [
    {
     "name": "stderr",
     "output_type": "stream",
     "text": [
      "IOPub data rate exceeded.\n",
      "The Jupyter server will temporarily stop sending output\n",
      "to the client in order to avoid crashing it.\n",
      "To change this limit, set the config variable\n",
      "`--ServerApp.iopub_data_rate_limit`.\n",
      "\n",
      "Current values:\n",
      "ServerApp.iopub_data_rate_limit=1000000.0 (bytes/sec)\n",
      "ServerApp.rate_limit_window=3.0 (secs)\n",
      "\n"
     ]
    }
   ],
   "source": [
    "import pandas as pd\n",
    "import csv\n",
    "table = []\n",
    "\n",
    "with open('data.csv', 'r') as csvfile:\n",
    "  # Create a reader object\n",
    "  csv_reader = csv.reader(csvfile)\n",
    "  print(csv_reader)\n",
    "  \n",
    "  # Iterate through the rows in the CSV file\n",
    "  for row in csv_reader:\n",
    "      table.append(row)\n",
    "\n",
    "data = []\n",
    "print(table)\n",
    "\n",
    "for i in range(len(table)-10):\n",
    "    table[i][0] = table[i+2][0].split(';')\n",
    "    data.append(table[i][0])\n",
    "    print(data)\n",
    "    data[i][1] = int(data[i][1])\n",
    "    data[i][2] = int(data[i][2])\n",
    "\n",
    "datafin = []\n",
    "\n",
    "for i in data:\n",
    "    i = i[0:6]\n",
    "    datafin.append(i)\n",
    "          \n",
    "\n",
    "    # Access each element in the row\n",
    "#data.remove(data[0])\n",
    "\n",
    "print(datafin)"
   ]
  },
  {
   "cell_type": "code",
   "execution_count": 51,
   "id": "c7d3f2f5-361f-45db-abc1-1cef79c46d5d",
   "metadata": {},
   "outputs": [
    {
     "data": {
      "text/plain": [
       "'1H'"
      ]
     },
     "execution_count": 51,
     "metadata": {},
     "output_type": "execute_result"
    }
   ],
   "source": [
    "table[2][0]"
   ]
  },
  {
   "cell_type": "code",
   "execution_count": 43,
   "id": "2ccb205b-7c08-4db8-833d-905037d6d997",
   "metadata": {},
   "outputs": [
    {
     "data": {
      "text/plain": [
       "['13Be', 4, 9, 'n', '', '', '2.7E-21 s', '(1/2']"
      ]
     },
     "execution_count": 43,
     "metadata": {},
     "output_type": "execute_result"
    }
   ],
   "source": [
    "data[35]"
   ]
  },
  {
   "cell_type": "code",
   "execution_count": null,
   "id": "dd294f59-efda-40cb-ba76-74deb4d86e79",
   "metadata": {},
   "outputs": [],
   "source": []
  }
 ],
 "metadata": {
  "kernelspec": {
   "display_name": "Python 3 (ipykernel)",
   "language": "python",
   "name": "python3"
  },
  "language_info": {
   "codemirror_mode": {
    "name": "ipython",
    "version": 3
   },
   "file_extension": ".py",
   "mimetype": "text/x-python",
   "name": "python",
   "nbconvert_exporter": "python",
   "pygments_lexer": "ipython3",
   "version": "3.12.7"
  }
 },
 "nbformat": 4,
 "nbformat_minor": 5
}
